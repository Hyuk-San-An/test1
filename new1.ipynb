{
  "nbformat": 4,
  "nbformat_minor": 0,
  "metadata": {
    "colab": {
      "provenance": [],
      "gpuType": "T4",
      "authorship_tag": "ABX9TyNfIkFQK8XrxIEsPGzEC1mT",
      "include_colab_link": true
    },
    "kernelspec": {
      "name": "python3",
      "display_name": "Python 3"
    },
    "language_info": {
      "name": "python"
    },
    "accelerator": "GPU"
  },
  "cells": [
    {
      "cell_type": "markdown",
      "metadata": {
        "id": "view-in-github",
        "colab_type": "text"
      },
      "source": [
        "<a href=\"https://colab.research.google.com/github/Hyuk-San-An/test1/blob/master/new1.ipynb\" target=\"_parent\"><img src=\"https://colab.research.google.com/assets/colab-badge.svg\" alt=\"Open In Colab\"/></a>"
      ]
    },
    {
      "cell_type": "code",
      "execution_count": 3,
      "metadata": {
        "id": "WbPzYh_7SG-j",
        "colab": {
          "base_uri": "https://localhost:8080/"
        },
        "outputId": "2a1cba58-c977-44fc-f75b-21ce1abe603f"
      },
      "outputs": [
        {
          "output_type": "stream",
          "name": "stdout",
          "text": [
            "Mounted at /content/drive\n"
          ]
        }
      ],
      "source": [
        "from google.colab import drive\n",
        "drive.mount('/content/drive')"
      ]
    },
    {
      "cell_type": "code",
      "source": [],
      "metadata": {
        "id": "6RiyPpsDS-Bz"
      },
      "execution_count": 3,
      "outputs": []
    },
    {
      "cell_type": "code",
      "source": [
        "from keras.datasets import mnist"
      ],
      "metadata": {
        "id": "XNgi3YfeS99s"
      },
      "execution_count": 4,
      "outputs": []
    },
    {
      "cell_type": "code",
      "source": [
        "(train_X, train_y), (test_X, test_y) = mnist.load_data()"
      ],
      "metadata": {
        "colab": {
          "base_uri": "https://localhost:8080/"
        },
        "id": "vvJXLoDuS9wE",
        "outputId": "4173dbdb-09c8-4d25-e6e6-f9f0e1b43841"
      },
      "execution_count": 5,
      "outputs": [
        {
          "output_type": "stream",
          "name": "stdout",
          "text": [
            "Downloading data from https://storage.googleapis.com/tensorflow/tf-keras-datasets/mnist.npz\n",
            "11490434/11490434 [==============================] - 0s 0us/step\n"
          ]
        }
      ]
    },
    {
      "cell_type": "code",
      "source": [
        "from keras.layers import Dense\n",
        "from keras.models import Sequential"
      ],
      "metadata": {
        "id": "D1LgQ1b8T5SJ"
      },
      "execution_count": 6,
      "outputs": []
    },
    {
      "cell_type": "code",
      "source": [
        "train_X=train_X.reshape(-1,28*28)/255\n",
        "test_X=test_X.reshape(-1,28*28)/255"
      ],
      "metadata": {
        "id": "xTVbfWgyUeGD"
      },
      "execution_count": null,
      "outputs": []
    },
    {
      "cell_type": "code",
      "source": [
        "model=Sequential()\n",
        "model.add(Dense(512,activation='relu',input_shape=(28*28,)))\n",
        "model.add(Dense(64,activation='softmax'))"
      ],
      "metadata": {
        "id": "bVYTGnhIUFWK"
      },
      "execution_count": 8,
      "outputs": []
    },
    {
      "cell_type": "code",
      "source": [
        "model.compile(optimizer='adam',loss='sparse_categorical_crossentropy',metrics=['accuracy'])"
      ],
      "metadata": {
        "id": "6nynVHwaVDNa"
      },
      "execution_count": 9,
      "outputs": []
    },
    {
      "cell_type": "code",
      "source": [
        "model.fit(train_X,train_y,epochs=20,batch_size=32)"
      ],
      "metadata": {
        "colab": {
          "base_uri": "https://localhost:8080/"
        },
        "id": "eNlHqYq4Y4qp",
        "outputId": "83cff4b6-819e-40aa-faa7-15153863e1c5"
      },
      "execution_count": 10,
      "outputs": [
        {
          "output_type": "stream",
          "name": "stdout",
          "text": [
            "Epoch 1/20\n",
            "1875/1875 [==============================] - 11s 3ms/step - loss: 0.2188 - accuracy: 0.9361\n",
            "Epoch 2/20\n",
            "1875/1875 [==============================] - 5s 2ms/step - loss: 0.0826 - accuracy: 0.9748\n",
            "Epoch 3/20\n",
            "1875/1875 [==============================] - 6s 3ms/step - loss: 0.0533 - accuracy: 0.9834\n",
            "Epoch 4/20\n",
            "1875/1875 [==============================] - 5s 2ms/step - loss: 0.0370 - accuracy: 0.9882\n",
            "Epoch 5/20\n",
            "1875/1875 [==============================] - 5s 3ms/step - loss: 0.0292 - accuracy: 0.9906\n",
            "Epoch 6/20\n",
            "1875/1875 [==============================] - 5s 3ms/step - loss: 0.0200 - accuracy: 0.9937\n",
            "Epoch 7/20\n",
            "1875/1875 [==============================] - 4s 2ms/step - loss: 0.0180 - accuracy: 0.9939\n",
            "Epoch 8/20\n",
            "1875/1875 [==============================] - 5s 3ms/step - loss: 0.0141 - accuracy: 0.9952\n",
            "Epoch 9/20\n",
            "1875/1875 [==============================] - 5s 3ms/step - loss: 0.0117 - accuracy: 0.9961\n",
            "Epoch 10/20\n",
            "1875/1875 [==============================] - 4s 2ms/step - loss: 0.0106 - accuracy: 0.9968\n",
            "Epoch 11/20\n",
            "1875/1875 [==============================] - 5s 3ms/step - loss: 0.0094 - accuracy: 0.9969\n",
            "Epoch 12/20\n",
            "1875/1875 [==============================] - 5s 2ms/step - loss: 0.0080 - accuracy: 0.9973\n",
            "Epoch 13/20\n",
            "1875/1875 [==============================] - 4s 2ms/step - loss: 0.0094 - accuracy: 0.9966\n",
            "Epoch 14/20\n",
            "1875/1875 [==============================] - 5s 3ms/step - loss: 0.0071 - accuracy: 0.9977\n",
            "Epoch 15/20\n",
            "1875/1875 [==============================] - 4s 2ms/step - loss: 0.0067 - accuracy: 0.9978\n",
            "Epoch 16/20\n",
            "1875/1875 [==============================] - 5s 2ms/step - loss: 0.0059 - accuracy: 0.9980\n",
            "Epoch 17/20\n",
            "1875/1875 [==============================] - 5s 3ms/step - loss: 0.0057 - accuracy: 0.9980\n",
            "Epoch 18/20\n",
            "1875/1875 [==============================] - 4s 2ms/step - loss: 0.0053 - accuracy: 0.9982\n",
            "Epoch 19/20\n",
            "1875/1875 [==============================] - 5s 2ms/step - loss: 0.0049 - accuracy: 0.9985\n",
            "Epoch 20/20\n",
            "1875/1875 [==============================] - 5s 3ms/step - loss: 0.0074 - accuracy: 0.9975\n"
          ]
        },
        {
          "output_type": "execute_result",
          "data": {
            "text/plain": [
              "<keras.src.callbacks.History at 0x7d832da219f0>"
            ]
          },
          "metadata": {},
          "execution_count": 10
        }
      ]
    },
    {
      "cell_type": "code",
      "source": [],
      "metadata": {
        "id": "MF2N2bvVZVd4"
      },
      "execution_count": 10,
      "outputs": []
    }
  ]
}